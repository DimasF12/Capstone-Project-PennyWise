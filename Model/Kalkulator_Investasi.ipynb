{
  "nbformat": 4,
  "nbformat_minor": 0,
  "metadata": {
    "colab": {
      "provenance": []
    },
    "kernelspec": {
      "name": "python3",
      "display_name": "Python 3"
    },
    "language_info": {
      "name": "python"
    }
  },
  "cells": [
    {
      "cell_type": "code",
      "execution_count": 3,
      "metadata": {
        "colab": {
          "base_uri": "https://localhost:8080/"
        },
        "id": "hpzSiN9GJBip",
        "outputId": "169ce719-2ab8-4314-968b-133b8da1d5de"
      },
      "outputs": [
        {
          "output_type": "stream",
          "name": "stdout",
          "text": [
            "Masukkan target uang yang ingin dicapai: 2000000\n",
            "Masukkan waktu (dalam tahun) untuk mencapai target: 2\n",
            "Masukkan jumlah uang yang dimiliki saat ini: 200000\n",
            "Apakah Anda menabung setiap bulan atau setiap tahun? (bulan/tahun): bulan\n",
            "Apakah Anda ingin menambahkan dana pada awal atau akhir bulan? (awal/akhir): awal\n",
            "Berapa banyak dana yang akan diinvestasikan setiap bulan/tahun: 100000\n",
            "Masukkan persen/tahun return dari investasi: 10\n",
            "\n",
            "Hasil Evaluasi Strategi:\n",
            "\n",
            "Target Uang: 2000000.0\n",
            "Durasi: 2 tahun\n",
            "Hasil Akhir: 2910808.82\n",
            "Strategi: Cocok\n"
          ]
        }
      ],
      "source": [
        "# Kalkulator Investasi\n",
        "\n",
        "import tensorflow as tf\n",
        "import numpy as np\n",
        "\n",
        "def calculate_investment_growth(principal, annual_rate, years, contribution, contribution_timing):\n",
        "\n",
        "    rate = annual_rate / 100\n",
        "    monthly_rate = rate / 12\n",
        "    total_months = years * 12\n",
        "\n",
        "    value = principal\n",
        "\n",
        "    for _ in range(total_months):\n",
        "        if contribution_timing == 'awal':\n",
        "            value += contribution\n",
        "        value *= (1 + monthly_rate)\n",
        "        if contribution_timing == 'akhir':\n",
        "            value += contribution\n",
        "\n",
        "    return value\n",
        "\n",
        "def evaluate_strategy(target, duration, initial_amount, contribution, annual_rate, timing):\n",
        "\n",
        "    final_value = calculate_investment_growth(initial_amount, annual_rate, duration, contribution, timing)\n",
        "\n",
        "    strategy_status = \"Cocok\" if final_value >= target else \"Tidak Cocok\"\n",
        "    return {\n",
        "        \"Target\": target,\n",
        "        \"Durasi\": duration,\n",
        "        \"Hasil Akhir\": final_value,\n",
        "        \"Strategi\": strategy_status\n",
        "    }\n",
        "\n",
        "# Input dari user\n",
        "target_amount = float(input(\"Masukkan target uang yang ingin dicapai: \"))\n",
        "duration_years = int(input(\"Masukkan waktu (dalam tahun) untuk mencapai target: \"))\n",
        "initial_amount = float(input(\"Masukkan jumlah uang yang dimiliki saat ini: \"))\n",
        "contribution_frequency = input(\"Apakah Anda menabung setiap bulan atau setiap tahun? (bulan/tahun): \")\n",
        "contribution_timing = input(\"Apakah Anda ingin menambahkan dana pada awal atau akhir bulan? (awal/akhir): \")\n",
        "investment_amount = float(input(\"Berapa banyak dana yang akan diinvestasikan setiap bulan/tahun: \"))\n",
        "annual_return = float(input(\"Masukkan persen/tahun return dari investasi: \"))\n",
        "\n",
        "# Menentukan kontribusi bulanan atau tahunan\n",
        "if contribution_frequency == \"tahun\":\n",
        "    investment_amount /= 12\n",
        "\n",
        "# Evaluasi strategi\n",
        "results = evaluate_strategy(target_amount, duration_years, initial_amount, investment_amount, annual_return, contribution_timing)\n",
        "\n",
        "# Output\n",
        "print(\"\\nHasil Evaluasi Strategi:\\n\")\n",
        "print(f\"Target Uang: {results['Target']}\")\n",
        "print(f\"Durasi: {results['Durasi']} tahun\")\n",
        "print(f\"Hasil Akhir: {results['Hasil Akhir']:.2f}\")\n",
        "print(f\"Strategi: {results['Strategi']}\")"
      ]
    }
  ]
}